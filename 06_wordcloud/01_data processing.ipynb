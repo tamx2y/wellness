{
 "cells": [
  {
   "cell_type": "code",
   "execution_count": 1,
   "id": "bd0327f2",
   "metadata": {},
   "outputs": [],
   "source": [
    "# 기본 라이브러리\n",
    "import numpy as np\n",
    "import pandas as pd\n",
    "import matplotlib.pyplot as plt\n",
    "import seaborn as sns\n",
    "import matplotlib as mpl\n",
    "\n",
    "\n",
    "# 그래프 기본 테마 설정\n",
    "sns.set()\n",
    "\n",
    "# 그래프 기본 설정\n",
    "plt.rcParams['font.family'] = 'Malgun Gothic'\n",
    "plt.rcParams['figure.figsize'] = 12, 6\n",
    "plt.rcParams['font.size'] = 14\n",
    "plt.rcParams['axes.unicode_minus'] = False\n",
    "\n",
    "# 복잡한 통계 처리를 위한 라이브러리\n",
    "from scipy import stats\n",
    "from matplotlib.ticker import ScalarFormatter\n"
   ]
  },
  {
   "cell_type": "code",
   "execution_count": 3,
   "id": "3927d769",
   "metadata": {},
   "outputs": [],
   "source": [
    "# 데이터 불러오기\n",
    "gj = pd.read_excel('data/거제벨버디어.xlsx')\n",
    "npl = pd.read_excel('data/나폴리농원.xlsx')\n",
    "dhs = pd.read_excel('data/대흥사.xlsx')\n",
    "st = pd.read_excel('data/센텀스파랜드.xlsx')\n",
    "scm = pd.read_excel('data/순천만국가정원.xlsx')\n",
    "cdb = pd.read_excel('data/차덕분.xlsx')\n",
    "forest = pd.read_excel('data/포레스트리솜.xlsx')\n",
    "hb = pd.read_excel('data/한방진흥원.xlsx')\n",
    "hbc = pd.read_excel('data/해비치.xlsx')"
   ]
  },
  {
   "cell_type": "code",
   "execution_count": 4,
   "id": "a967715c",
   "metadata": {},
   "outputs": [
    {
     "data": {
      "text/html": [
       "<div>\n",
       "<style scoped>\n",
       "    .dataframe tbody tr th:only-of-type {\n",
       "        vertical-align: middle;\n",
       "    }\n",
       "\n",
       "    .dataframe tbody tr th {\n",
       "        vertical-align: top;\n",
       "    }\n",
       "\n",
       "    .dataframe thead th {\n",
       "        text-align: right;\n",
       "    }\n",
       "</style>\n",
       "<table border=\"1\" class=\"dataframe\">\n",
       "  <thead>\n",
       "    <tr style=\"text-align: right;\">\n",
       "      <th></th>\n",
       "      <th>리뷰</th>\n",
       "      <th>작성자</th>\n",
       "      <th>작성자정보</th>\n",
       "      <th>날짜</th>\n",
       "      <th>방문회수</th>\n",
       "      <th>인증수단</th>\n",
       "      <th>업소명</th>\n",
       "      <th>지역</th>\n",
       "      <th>작성일</th>\n",
       "      <th>방문횟수</th>\n",
       "    </tr>\n",
       "  </thead>\n",
       "  <tbody>\n",
       "    <tr>\n",
       "      <th>14386</th>\n",
       "      <td>ㅇ에</td>\n",
       "      <td>회원</td>\n",
       "      <td>리뷰 139</td>\n",
       "      <td>2013년 10월 24일 목요일</td>\n",
       "      <td>1.0</td>\n",
       "      <td>영수증</td>\n",
       "      <td>해비치 호텔&amp;리조트 제주</td>\n",
       "      <td>제주</td>\n",
       "      <td>NaN</td>\n",
       "      <td>NaN</td>\n",
       "    </tr>\n",
       "    <tr>\n",
       "      <th>14387</th>\n",
       "      <td>숙박</td>\n",
       "      <td>sol****</td>\n",
       "      <td>리뷰 146사진 5</td>\n",
       "      <td>2013년 10월 24일 목요일</td>\n",
       "      <td>1.0</td>\n",
       "      <td>영수증</td>\n",
       "      <td>해비치 호텔&amp;리조트 제주</td>\n",
       "      <td>제주</td>\n",
       "      <td>NaN</td>\n",
       "      <td>NaN</td>\n",
       "    </tr>\n",
       "    <tr>\n",
       "      <th>14388</th>\n",
       "      <td>숙박</td>\n",
       "      <td>별별톤</td>\n",
       "      <td>리뷰 222사진 19팔로워 7</td>\n",
       "      <td>2013년 10월 24일 목요일</td>\n",
       "      <td>1.0</td>\n",
       "      <td>영수증</td>\n",
       "      <td>해비치 호텔&amp;리조트 제주</td>\n",
       "      <td>제주</td>\n",
       "      <td>NaN</td>\n",
       "      <td>NaN</td>\n",
       "    </tr>\n",
       "    <tr>\n",
       "      <th>14389</th>\n",
       "      <td>짱</td>\n",
       "      <td>jham282</td>\n",
       "      <td>리뷰 403</td>\n",
       "      <td>2013년 10월 24일 목요일</td>\n",
       "      <td>1.0</td>\n",
       "      <td>영수증</td>\n",
       "      <td>해비치 호텔&amp;리조트 제주</td>\n",
       "      <td>제주</td>\n",
       "      <td>NaN</td>\n",
       "      <td>NaN</td>\n",
       "    </tr>\n",
       "    <tr>\n",
       "      <th>14390</th>\n",
       "      <td>좋아요</td>\n",
       "      <td>보라522</td>\n",
       "      <td>리뷰 1,216사진 6</td>\n",
       "      <td>201년 4월 27일 월요일</td>\n",
       "      <td>1.0</td>\n",
       "      <td>영수증</td>\n",
       "      <td>해비치 호텔&amp;리조트 제주</td>\n",
       "      <td>제주</td>\n",
       "      <td>NaN</td>\n",
       "      <td>NaN</td>\n",
       "    </tr>\n",
       "  </tbody>\n",
       "</table>\n",
       "</div>"
      ],
      "text/plain": [
       "        리뷰      작성자             작성자정보                 날짜  방문회수 인증수단  \\\n",
       "14386   ㅇ에       회원            리뷰 139  2013년 10월 24일 목요일   1.0  영수증   \n",
       "14387   숙박  sol****        리뷰 146사진 5  2013년 10월 24일 목요일   1.0  영수증   \n",
       "14388   숙박      별별톤  리뷰 222사진 19팔로워 7  2013년 10월 24일 목요일   1.0  영수증   \n",
       "14389    짱  jham282            리뷰 403  2013년 10월 24일 목요일   1.0  영수증   \n",
       "14390  좋아요    보라522      리뷰 1,216사진 6    201년 4월 27일 월요일   1.0  영수증   \n",
       "\n",
       "                 업소명  지역  작성일  방문횟수  \n",
       "14386  해비치 호텔&리조트 제주  제주  NaN   NaN  \n",
       "14387  해비치 호텔&리조트 제주  제주  NaN   NaN  \n",
       "14388  해비치 호텔&리조트 제주  제주  NaN   NaN  \n",
       "14389  해비치 호텔&리조트 제주  제주  NaN   NaN  \n",
       "14390  해비치 호텔&리조트 제주  제주  NaN   NaN  "
      ]
     },
     "execution_count": 4,
     "metadata": {},
     "output_type": "execute_result"
    }
   ],
   "source": [
    "review = pd.concat([gj, npl, dhs, st, scm, cdb, forest, hb, hbc], ignore_index=True)\n",
    "review.tail()"
   ]
  },
  {
   "cell_type": "code",
   "execution_count": 5,
   "id": "5e5007bf",
   "metadata": {},
   "outputs": [],
   "source": [
    "# 작성자, 작정자정보, 방문횟수, 인증수단, 작성일, 방문횟수 -> 제거"
   ]
  },
  {
   "cell_type": "code",
   "execution_count": 6,
   "id": "0fb6ca23",
   "metadata": {},
   "outputs": [],
   "source": [
    "# 날짜 형식 변경"
   ]
  },
  {
   "cell_type": "code",
   "execution_count": null,
   "id": "be798417",
   "metadata": {},
   "outputs": [],
   "source": [
    "# 날짜 제한 (2023.01.01 ~ 2025.07.31)까지로 제한\n",
    "# 다른 데이터들과 어느정도 맞추기 위해서"
   ]
  },
  {
   "cell_type": "code",
   "execution_count": null,
   "id": "28cbd2db",
   "metadata": {},
   "outputs": [],
   "source": [
    "# 최종 데이터 저장"
   ]
  }
 ],
 "metadata": {
  "kernelspec": {
   "display_name": "base",
   "language": "python",
   "name": "python3"
  },
  "language_info": {
   "codemirror_mode": {
    "name": "ipython",
    "version": 3
   },
   "file_extension": ".py",
   "mimetype": "text/x-python",
   "name": "python",
   "nbconvert_exporter": "python",
   "pygments_lexer": "ipython3",
   "version": "3.12.7"
  }
 },
 "nbformat": 4,
 "nbformat_minor": 5
}
