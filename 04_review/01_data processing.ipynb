{
 "cells": [
  {
   "cell_type": "code",
   "execution_count": 1,
   "id": "bd0327f2",
   "metadata": {},
   "outputs": [],
   "source": [
    "# 기본 라이브러리\n",
    "import numpy as np\n",
    "import pandas as pd\n",
    "import matplotlib.pyplot as plt\n",
    "import seaborn as sns\n",
    "import matplotlib as mpl\n",
    "\n",
    "\n",
    "# 그래프 기본 테마 설정\n",
    "sns.set()\n",
    "\n",
    "# 그래프 기본 설정\n",
    "plt.rcParams['font.family'] = 'Malgun Gothic'\n",
    "plt.rcParams['figure.figsize'] = 12, 6\n",
    "plt.rcParams['font.size'] = 14\n",
    "plt.rcParams['axes.unicode_minus'] = False\n",
    "\n",
    "# 복잡한 통계 처리를 위한 라이브러리\n",
    "from scipy import stats\n",
    "from matplotlib.ticker import ScalarFormatter\n"
   ]
  },
  {
   "cell_type": "code",
   "execution_count": 2,
   "id": "3927d769",
   "metadata": {},
   "outputs": [],
   "source": [
    "# 데이터 불러오기\n",
    "gj = pd.read_excel('data/거제벨버디어.xlsx')\n",
    "npl = pd.read_excel('data/나폴리농원.xlsx')\n",
    "dhs = pd.read_excel('data/대흥사.xlsx')\n",
    "st = pd.read_excel('data/센텀스파랜드.xlsx')\n",
    "scm = pd.read_excel('data/순천만국가정원.xlsx')\n",
    "cdb = pd.read_excel('data/차덕분.xlsx')\n",
    "forest = pd.read_excel('data/포레스트리솜.xlsx')\n",
    "hb = pd.read_excel('data/한방진흥원.xlsx')\n",
    "hbc = pd.read_excel('data/해비치.xlsx')"
   ]
  },
  {
   "cell_type": "code",
   "execution_count": 3,
   "id": "a967715c",
   "metadata": {},
   "outputs": [
    {
     "data": {
      "text/plain": [
       "Index(['리뷰', '작성자', '작성자정보', '날짜', '방문회수', '인증수단', '업소명', '지역', '작성일', '방문횟수'], dtype='object')"
      ]
     },
     "execution_count": 3,
     "metadata": {},
     "output_type": "execute_result"
    }
   ],
   "source": [
    "review = pd.concat([gj, npl, dhs, st, scm, cdb, forest, hb, hbc], ignore_index=True)\n",
    "review.tail()\n",
    "review.columns"
   ]
  },
  {
   "cell_type": "code",
   "execution_count": 4,
   "id": "5e5007bf",
   "metadata": {},
   "outputs": [
    {
     "data": {
      "text/html": [
       "<div>\n",
       "<style scoped>\n",
       "    .dataframe tbody tr th:only-of-type {\n",
       "        vertical-align: middle;\n",
       "    }\n",
       "\n",
       "    .dataframe tbody tr th {\n",
       "        vertical-align: top;\n",
       "    }\n",
       "\n",
       "    .dataframe thead th {\n",
       "        text-align: right;\n",
       "    }\n",
       "</style>\n",
       "<table border=\"1\" class=\"dataframe\">\n",
       "  <thead>\n",
       "    <tr style=\"text-align: right;\">\n",
       "      <th></th>\n",
       "      <th>리뷰</th>\n",
       "      <th>날짜</th>\n",
       "      <th>업소명</th>\n",
       "      <th>지역</th>\n",
       "    </tr>\n",
       "  </thead>\n",
       "  <tbody>\n",
       "    <tr>\n",
       "      <th>14386</th>\n",
       "      <td>ㅇ에</td>\n",
       "      <td>2013년 10월 24일 목요일</td>\n",
       "      <td>해비치 호텔&amp;리조트 제주</td>\n",
       "      <td>제주</td>\n",
       "    </tr>\n",
       "    <tr>\n",
       "      <th>14387</th>\n",
       "      <td>숙박</td>\n",
       "      <td>2013년 10월 24일 목요일</td>\n",
       "      <td>해비치 호텔&amp;리조트 제주</td>\n",
       "      <td>제주</td>\n",
       "    </tr>\n",
       "    <tr>\n",
       "      <th>14388</th>\n",
       "      <td>숙박</td>\n",
       "      <td>2013년 10월 24일 목요일</td>\n",
       "      <td>해비치 호텔&amp;리조트 제주</td>\n",
       "      <td>제주</td>\n",
       "    </tr>\n",
       "    <tr>\n",
       "      <th>14389</th>\n",
       "      <td>짱</td>\n",
       "      <td>2013년 10월 24일 목요일</td>\n",
       "      <td>해비치 호텔&amp;리조트 제주</td>\n",
       "      <td>제주</td>\n",
       "    </tr>\n",
       "    <tr>\n",
       "      <th>14390</th>\n",
       "      <td>좋아요</td>\n",
       "      <td>201년 4월 27일 월요일</td>\n",
       "      <td>해비치 호텔&amp;리조트 제주</td>\n",
       "      <td>제주</td>\n",
       "    </tr>\n",
       "  </tbody>\n",
       "</table>\n",
       "</div>"
      ],
      "text/plain": [
       "        리뷰                 날짜            업소명  지역\n",
       "14386   ㅇ에  2013년 10월 24일 목요일  해비치 호텔&리조트 제주  제주\n",
       "14387   숙박  2013년 10월 24일 목요일  해비치 호텔&리조트 제주  제주\n",
       "14388   숙박  2013년 10월 24일 목요일  해비치 호텔&리조트 제주  제주\n",
       "14389    짱  2013년 10월 24일 목요일  해비치 호텔&리조트 제주  제주\n",
       "14390  좋아요    201년 4월 27일 월요일  해비치 호텔&리조트 제주  제주"
      ]
     },
     "execution_count": 4,
     "metadata": {},
     "output_type": "execute_result"
    }
   ],
   "source": [
    "# 작성자, 작정자정보, 방문횟수, 인증수단, 작성일, 방문횟수 -> 제거\n",
    "review = review.drop(columns=['작성자', '작성자정보', '방문회수', '인증수단', '작성일', '방문횟수'])\n",
    "review.tail() #14390개 데이터"
   ]
  },
  {
   "cell_type": "code",
   "execution_count": 5,
   "id": "377742a1",
   "metadata": {},
   "outputs": [
    {
     "name": "stdout",
     "output_type": "stream",
     "text": [
      "0   2025-07-19\n",
      "1   2025-07-05\n",
      "2   2025-05-30\n",
      "3   2025-07-11\n",
      "4   2025-06-02\n",
      "Name: 날짜, dtype: datetime64[ns]\n"
     ]
    }
   ],
   "source": [
    "# 날짜 형식 변환\n",
    "# 1. 연, 월, 일 숫자만 추출\n",
    "review[['연', '월', '일']] = review['날짜'].str.extract(r'(\\d{4})년\\s*(\\d{1,2})월\\s*(\\d{1,2})일')\n",
    "\n",
    "# 2. 추출한 숫자로 날짜 문자열 생성 (YYYY-MM-DD)\n",
    "review['날짜_문자'] = review.apply(\n",
    "    lambda row: f\"{int(row['연']):04d}-{int(row['월']):02d}-{int(row['일']):02d}\" \n",
    "    if pd.notnull(row['연']) and pd.notnull(row['월']) and pd.notnull(row['일']) \n",
    "    else None, axis=1)\n",
    "\n",
    "# 3. 날짜 문자열을 datetime 타입으로 변환\n",
    "review['날짜'] = pd.to_datetime(review['날짜_문자'], format='%Y-%m-%d', errors='coerce')\n",
    "\n",
    "# 4. 임시 컬럼 삭제\n",
    "review.drop(columns=['연', '월', '일', '날짜_문자'], inplace=True)\n",
    "\n",
    "# 결과 확인\n",
    "print(review['날짜'].head())\n",
    "\n",
    "# 데이터 저장: 계속 이 코드에서 오류가 나서 억지로 데이터를 저장하고 다시 시작\n",
    "review.to_csv('data/review_processed.csv', index=False, encoding='utf-8-sig')   "
   ]
  },
  {
   "cell_type": "code",
   "execution_count": 6,
   "id": "cb7b3966",
   "metadata": {},
   "outputs": [
    {
     "data": {
      "text/plain": [
       "14391"
      ]
     },
     "execution_count": 6,
     "metadata": {},
     "output_type": "execute_result"
    }
   ],
   "source": [
    "# 데이터 불러오기\n",
    "r2 = pd.read_csv('data/review_processed.csv', encoding='utf-8-sig ')\n",
    "len(r2) #14391개"
   ]
  },
  {
   "cell_type": "code",
   "execution_count": 7,
   "id": "4620a1ec",
   "metadata": {},
   "outputs": [
    {
     "data": {
      "text/plain": [
       "dtype('O')"
      ]
     },
     "execution_count": 7,
     "metadata": {},
     "output_type": "execute_result"
    }
   ],
   "source": [
    "r2['날짜'].dtype #object\n",
    "# r2['날짜'] = pd.to_datetime(r2['날짜'], errors='coerce')\n",
    "# r2 = r2.dropna(subset=['날짜']) \n",
    "# r2['등록일'] = r2['날짜'].dt.strftime('%Y%m%d').astype(int)\n",
    "# len(r2) #8670개"
   ]
  },
  {
   "cell_type": "code",
   "execution_count": 16,
   "id": "be798417",
   "metadata": {},
   "outputs": [
    {
     "data": {
      "text/plain": [
       "2779"
      ]
     },
     "execution_count": 16,
     "metadata": {},
     "output_type": "execute_result"
    }
   ],
   "source": [
    "# 날짜 제한 (2023.01.01 ~ 2025.07.31)까지로 제한\n",
    "# 다른 데이터들과 어느정도 맞추기 위해서\n",
    "r2 = r2[(r2['날짜'] >= '2023-01-01') & (r2['날짜'] <= '2025-07-31')]\n",
    "len(r2) #2779개"
   ]
  },
  {
   "cell_type": "code",
   "execution_count": 14,
   "id": "28cbd2db",
   "metadata": {},
   "outputs": [],
   "source": [
    "# 최종 데이터 저장\n",
    "r2.to_csv('data/review_final.csv', index=False, encoding='utf-8-sig')"
   ]
  }
 ],
 "metadata": {
  "kernelspec": {
   "display_name": "base",
   "language": "python",
   "name": "python3"
  },
  "language_info": {
   "codemirror_mode": {
    "name": "ipython",
    "version": 3
   },
   "file_extension": ".py",
   "mimetype": "text/x-python",
   "name": "python",
   "nbconvert_exporter": "python",
   "pygments_lexer": "ipython3",
   "version": "3.12.7"
  }
 },
 "nbformat": 4,
 "nbformat_minor": 5
}
