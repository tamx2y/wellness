{
 "cells": [
  {
   "cell_type": "code",
   "execution_count": 1,
   "id": "bd0327f2",
   "metadata": {},
   "outputs": [],
   "source": [
    "# 기본 라이브러리\n",
    "import numpy as np\n",
    "import pandas as pd\n",
    "import matplotlib.pyplot as plt\n",
    "import seaborn as sns\n",
    "import matplotlib as mpl\n",
    "\n",
    "\n",
    "# 그래프 기본 테마 설정\n",
    "sns.set()\n",
    "\n",
    "# 그래프 기본 설정\n",
    "plt.rcParams['font.family'] = 'Malgun Gothic'\n",
    "plt.rcParams['figure.figsize'] = 12, 6\n",
    "plt.rcParams['font.size'] = 14\n",
    "plt.rcParams['axes.unicode_minus'] = False\n",
    "\n",
    "# 복잡한 통계 처리를 위한 라이브러리\n",
    "from scipy import stats\n",
    "from matplotlib.ticker import ScalarFormatter\n"
   ]
  },
  {
   "cell_type": "code",
   "execution_count": 2,
   "id": "3927d769",
   "metadata": {},
   "outputs": [],
   "source": [
    "# 데이터 불러오기\n",
    "gj = pd.read_excel('data/거제벨버디어.xlsx')\n",
    "npl = pd.read_excel('data/나폴리농원.xlsx')\n",
    "dhs = pd.read_excel('data/대흥사.xlsx')\n",
    "st = pd.read_excel('data/센텀스파랜드.xlsx')\n",
    "scm = pd.read_excel('data/순천만국가정원.xlsx')\n",
    "cdb = pd.read_excel('data/차덕분.xlsx')\n",
    "forest = pd.read_excel('data/포레스트리솜.xlsx')\n",
    "hb = pd.read_excel('data/한방진흥원.xlsx')\n",
    "hbc = pd.read_excel('data/해비치.xlsx')"
   ]
  },
  {
   "cell_type": "code",
   "execution_count": 3,
   "id": "419a14a7",
   "metadata": {},
   "outputs": [
    {
     "name": "stdout",
     "output_type": "stream",
     "text": [
      "Index(['리뷰', '작성자', '작성자정보', '날짜', '방문회수', '인증수단', '업소명', '지역'], dtype='object')\n",
      "Index(['리뷰', '작성자', '작성자정보', '작성일', '방문횟수', '인증수단', '업소명', '지역'], dtype='object')\n",
      "Index(['리뷰', '작성자', '작성자정보', '날짜', '방문회수', '인증수단', '업소명', '지역'], dtype='object')\n",
      "Index(['리뷰', '작성자', '작성자정보', '작성일', '방문횟수', '인증수단', '업소명', '지역'], dtype='object')\n",
      "Index(['리뷰', '작성자', '작성자정보', '작성일', '방문횟수', '인증수단', '업소명', '지역'], dtype='object')\n",
      "Index(['리뷰', '작성자', '작성자정보', '날짜', '방문회수', '인증수단', '업소명', '지역'], dtype='object')\n",
      "Index(['리뷰', '작성자', '작성자정보', '작성일', '방문횟수', '인증수단', '업소명', '지역'], dtype='object')\n",
      "Index(['리뷰', '작성자', '작성자정보', '날짜', '방문회수', '인증수단', '업소명', '지역'], dtype='object')\n",
      "Index(['리뷰', '작성자', '작성자정보', '날짜', '방문회수', '인증수단', '업소명', '지역'], dtype='object')\n",
      "Index(['리뷰', '작성자', '작성자정보', '날짜', '방문횟수', '인증수단', '업소명', '지역'], dtype='object')\n",
      "Index(['리뷰', '작성자', '작성자정보', '날짜', '방문횟수', '인증수단', '업소명', '지역'], dtype='object')\n",
      "Index(['리뷰', '작성자', '작성자정보', '날짜', '방문횟수', '인증수단', '업소명', '지역'], dtype='object')\n",
      "Index(['리뷰', '작성자', '작성자정보', '날짜', '방문횟수', '인증수단', '업소명', '지역'], dtype='object')\n",
      "Index(['리뷰', '작성자', '작성자정보', '날짜', '방문횟수', '인증수단', '업소명', '지역'], dtype='object')\n",
      "Index(['리뷰', '작성자', '작성자정보', '날짜', '방문횟수', '인증수단', '업소명', '지역'], dtype='object')\n",
      "Index(['리뷰', '작성자', '작성자정보', '날짜', '방문횟수', '인증수단', '업소명', '지역'], dtype='object')\n",
      "Index(['리뷰', '작성자', '작성자정보', '날짜', '방문횟수', '인증수단', '업소명', '지역'], dtype='object')\n",
      "Index(['리뷰', '작성자', '작성자정보', '날짜', '방문횟수', '인증수단', '업소명', '지역'], dtype='object')\n"
     ]
    }
   ],
   "source": [
    "print(gj.columns)\n",
    "print(npl.columns)\n",
    "print(dhs.columns)\n",
    "print(st.columns)   \n",
    "print(scm.columns)\n",
    "print(cdb.columns)\n",
    "print(forest.columns)   \n",
    "print(hb.columns)\n",
    "print(hbc.columns)\n",
    "\n",
    "rename = {\n",
    "    '리뷰' : '리뷰',\n",
    "    '작성자' : '작성자',\n",
    "    '작성자정보' : '작성자정보',\n",
    "    '날짜' : '날짜',\n",
    "    '작성일' : '날짜',\n",
    "    '방문회수' : '방문횟수',\n",
    "    '방문횟수' : '방문횟수',\n",
    "    '인증수단' : '인증수단',\n",
    "    '업소명' : '업소명',\n",
    "    '지역' : '지역',\n",
    "}\n",
    "\n",
    "gj.rename(columns=rename, inplace=True)\n",
    "npl.rename(columns=rename, inplace=True)\n",
    "dhs.rename(columns=rename, inplace=True)\n",
    "st.rename(columns=rename, inplace=True)     \n",
    "scm.rename(columns=rename, inplace=True)\n",
    "cdb.rename(columns=rename, inplace=True)\n",
    "forest.rename(columns=rename, inplace=True)\n",
    "hb.rename(columns=rename, inplace=True)\n",
    "hbc.rename(columns=rename, inplace=True)\n",
    "\n",
    "print(gj.columns)\n",
    "print(npl.columns)\n",
    "print(dhs.columns)\n",
    "print(st.columns)   \n",
    "print(scm.columns)\n",
    "print(cdb.columns)\n",
    "print(forest.columns)   \n",
    "print(hb.columns)\n",
    "print(hbc.columns)\n"
   ]
  },
  {
   "cell_type": "code",
   "execution_count": 4,
   "id": "a967715c",
   "metadata": {},
   "outputs": [
    {
     "data": {
      "text/plain": [
       "Index(['리뷰', '작성자', '작성자정보', '날짜', '방문횟수', '인증수단', '업소명', '지역'], dtype='object')"
      ]
     },
     "execution_count": 4,
     "metadata": {},
     "output_type": "execute_result"
    }
   ],
   "source": [
    "review = pd.concat([gj, npl, dhs, st, scm, cdb, forest, hb, hbc], ignore_index=True)\n",
    "review.tail()\n",
    "review.columns"
   ]
  },
  {
   "cell_type": "code",
   "execution_count": 5,
   "id": "5e5007bf",
   "metadata": {},
   "outputs": [
    {
     "data": {
      "text/html": [
       "<div>\n",
       "<style scoped>\n",
       "    .dataframe tbody tr th:only-of-type {\n",
       "        vertical-align: middle;\n",
       "    }\n",
       "\n",
       "    .dataframe tbody tr th {\n",
       "        vertical-align: top;\n",
       "    }\n",
       "\n",
       "    .dataframe thead th {\n",
       "        text-align: right;\n",
       "    }\n",
       "</style>\n",
       "<table border=\"1\" class=\"dataframe\">\n",
       "  <thead>\n",
       "    <tr style=\"text-align: right;\">\n",
       "      <th></th>\n",
       "      <th>리뷰</th>\n",
       "      <th>날짜</th>\n",
       "      <th>업소명</th>\n",
       "    </tr>\n",
       "  </thead>\n",
       "  <tbody>\n",
       "    <tr>\n",
       "      <th>8191</th>\n",
       "      <td>너무너무더웠지만 테마별로넘예쁘게 잘되어있었어용!!!\\n생각보다입장료가 비쌋어여ㅠ 경...</td>\n",
       "      <td>2024년 7월 2일 화요일</td>\n",
       "      <td>순천만국가정원</td>\n",
       "    </tr>\n",
       "    <tr>\n",
       "      <th>8192</th>\n",
       "      <td>뷰가 너무 이쁘고 좋아요</td>\n",
       "      <td>2024년 9월 28일 토요일</td>\n",
       "      <td>순천만국가정원</td>\n",
       "    </tr>\n",
       "    <tr>\n",
       "      <th>8193</th>\n",
       "      <td>다시 개장한 순천만국가정원.\\n개장한지 얼마 안되고, 주말이라 그런지 시민권 발급받...</td>\n",
       "      <td>2024년 4월 6일 토요일</td>\n",
       "      <td>순천만국가정원</td>\n",
       "    </tr>\n",
       "    <tr>\n",
       "      <th>8194</th>\n",
       "      <td>NaN</td>\n",
       "      <td>2024년 10월 30일 수요일</td>\n",
       "      <td>순천만국가정원</td>\n",
       "    </tr>\n",
       "    <tr>\n",
       "      <th>8195</th>\n",
       "      <td>국가정원 클라스 지립니다\\n크기도 엄청커요</td>\n",
       "      <td>2024년 10월 26일 토요일</td>\n",
       "      <td>순천만국가정원</td>\n",
       "    </tr>\n",
       "    <tr>\n",
       "      <th>8196</th>\n",
       "      <td>NaN</td>\n",
       "      <td>2024년 11월 23일 토요일</td>\n",
       "      <td>순천만국가정원</td>\n",
       "    </tr>\n",
       "    <tr>\n",
       "      <th>8197</th>\n",
       "      <td>너무 멋있어요.. 지방에서 오면 순천사람들과 차이가있는데 그건 쫌~~멀리서 왔는데 ...</td>\n",
       "      <td>2024년 10월 12일 토요일</td>\n",
       "      <td>순천만국가정원</td>\n",
       "    </tr>\n",
       "    <tr>\n",
       "      <th>8198</th>\n",
       "      <td>공연보러 갔다왔는데 너무 더워서 힘들었어요ㅜ\\n공연은 좋았습니다😂</td>\n",
       "      <td>2024년 8월 3일 토요일</td>\n",
       "      <td>순천만국가정원</td>\n",
       "    </tr>\n",
       "    <tr>\n",
       "      <th>8199</th>\n",
       "      <td>good</td>\n",
       "      <td>2024년 10월 29일 화요일</td>\n",
       "      <td>순천만국가정원</td>\n",
       "    </tr>\n",
       "  </tbody>\n",
       "</table>\n",
       "</div>"
      ],
      "text/plain": [
       "                                                     리뷰                 날짜  \\\n",
       "8191  너무너무더웠지만 테마별로넘예쁘게 잘되어있었어용!!!\\n생각보다입장료가 비쌋어여ㅠ 경...    2024년 7월 2일 화요일   \n",
       "8192                                      뷰가 너무 이쁘고 좋아요   2024년 9월 28일 토요일   \n",
       "8193  다시 개장한 순천만국가정원.\\n개장한지 얼마 안되고, 주말이라 그런지 시민권 발급받...    2024년 4월 6일 토요일   \n",
       "8194                                                NaN  2024년 10월 30일 수요일   \n",
       "8195                            국가정원 클라스 지립니다\\n크기도 엄청커요  2024년 10월 26일 토요일   \n",
       "8196                                                NaN  2024년 11월 23일 토요일   \n",
       "8197  너무 멋있어요.. 지방에서 오면 순천사람들과 차이가있는데 그건 쫌~~멀리서 왔는데 ...  2024년 10월 12일 토요일   \n",
       "8198               공연보러 갔다왔는데 너무 더워서 힘들었어요ㅜ\\n공연은 좋았습니다😂    2024년 8월 3일 토요일   \n",
       "8199                                               good  2024년 10월 29일 화요일   \n",
       "\n",
       "          업소명  \n",
       "8191  순천만국가정원  \n",
       "8192  순천만국가정원  \n",
       "8193  순천만국가정원  \n",
       "8194  순천만국가정원  \n",
       "8195  순천만국가정원  \n",
       "8196  순천만국가정원  \n",
       "8197  순천만국가정원  \n",
       "8198  순천만국가정원  \n",
       "8199  순천만국가정원  "
      ]
     },
     "execution_count": 5,
     "metadata": {},
     "output_type": "execute_result"
    }
   ],
   "source": [
    "# 작성자, 작정자정보, 방문횟수, 인증수단, 작성일, 방문횟수 -> 제거\n",
    "review = review.drop(columns=['작성자', '작성자정보', '방문횟수', '인증수단', '지역'])\n",
    "review.iloc[8191:8200]"
   ]
  },
  {
   "cell_type": "code",
   "execution_count": 6,
   "id": "377742a1",
   "metadata": {},
   "outputs": [
    {
     "name": "stdout",
     "output_type": "stream",
     "text": [
      "0   2025-07-19\n",
      "1   2025-07-05\n",
      "2   2025-05-30\n",
      "3   2025-07-11\n",
      "4   2025-06-02\n",
      "Name: 날짜, dtype: datetime64[ns]\n"
     ]
    }
   ],
   "source": [
    "# 날짜 형식 변환\n",
    "# 1. 연, 월, 일 숫자만 추출\n",
    "review[['연', '월', '일']] = review['날짜'].str.extract(r'(\\d{4})년\\s*(\\d{1,2})월\\s*(\\d{1,2})일')\n",
    "\n",
    "# 2. 추출한 숫자로 날짜 문자열 생성 (YYYY-MM-DD)\n",
    "review['날짜_문자'] = review.apply(\n",
    "    lambda row: f\"{int(row['연']):04d}-{int(row['월']):02d}-{int(row['일']):02d}\" \n",
    "    if pd.notnull(row['연']) and pd.notnull(row['월']) and pd.notnull(row['일']) \n",
    "    else None, axis=1)\n",
    "\n",
    "# 3. 날짜 문자열을 datetime 타입으로 변환\n",
    "review['날짜'] = pd.to_datetime(review['날짜_문자'], format='%Y-%m-%d', errors='coerce')\n",
    "\n",
    "# 4. 임시 컬럼 삭제\n",
    "review.drop(columns=['연', '월', '일', '날짜_문자'], inplace=True)\n",
    "\n",
    "# 결과 확인\n",
    "print(review['날짜'].head())\n",
    "\n",
    "# 데이터 저장: 계속 이 코드에서 오류가 나서 억지로 데이터를 저장하고 다시 시작\n",
    "review.to_csv('data/review_processed.csv', index=False, encoding='utf-8-sig')   "
   ]
  },
  {
   "cell_type": "code",
   "execution_count": 7,
   "id": "cb7b3966",
   "metadata": {},
   "outputs": [
    {
     "name": "stdout",
     "output_type": "stream",
     "text": [
      "        리뷰   날짜            업소명\n",
      "14390  좋아요  NaN  해비치 호텔&리조트 제주\n"
     ]
    },
    {
     "data": {
      "text/plain": [
       "14391"
      ]
     },
     "execution_count": 7,
     "metadata": {},
     "output_type": "execute_result"
    }
   ],
   "source": [
    "# 데이터 불러오기\n",
    "r2 = pd.read_csv('data/review_processed.csv', encoding='utf-8-sig ')\n",
    "len(r2) #14391개\n",
    "r2.head(20)\n",
    "\n",
    "nat_rows = r2[r2['날짜'].isna()]\n",
    "print(nat_rows)\n",
    "\n",
    "r2.iloc[3191:4000]\n",
    "len(r2)\n"
   ]
  },
  {
   "cell_type": "code",
   "execution_count": 8,
   "id": "4620a1ec",
   "metadata": {},
   "outputs": [
    {
     "data": {
      "text/plain": [
       "14391"
      ]
     },
     "execution_count": 8,
     "metadata": {},
     "output_type": "execute_result"
    }
   ],
   "source": [
    "r2['날짜'].dtype #object\n",
    "r2['날짜'] = pd.to_datetime(r2['날짜'], errors='coerce')\n",
    "len(r2) #14391개"
   ]
  },
  {
   "cell_type": "code",
   "execution_count": 9,
   "id": "be798417",
   "metadata": {},
   "outputs": [
    {
     "data": {
      "text/html": [
       "<div>\n",
       "<style scoped>\n",
       "    .dataframe tbody tr th:only-of-type {\n",
       "        vertical-align: middle;\n",
       "    }\n",
       "\n",
       "    .dataframe tbody tr th {\n",
       "        vertical-align: top;\n",
       "    }\n",
       "\n",
       "    .dataframe thead th {\n",
       "        text-align: right;\n",
       "    }\n",
       "</style>\n",
       "<table border=\"1\" class=\"dataframe\">\n",
       "  <thead>\n",
       "    <tr style=\"text-align: right;\">\n",
       "      <th></th>\n",
       "      <th>리뷰</th>\n",
       "      <th>날짜</th>\n",
       "      <th>업소명</th>\n",
       "    </tr>\n",
       "  </thead>\n",
       "  <tbody>\n",
       "    <tr>\n",
       "      <th>12031</th>\n",
       "      <td>우연히 가게됐는데 넘좋았어요. 미리알았다면 한옥카페에서 차를 사가서 마셨을겁니다. ...</td>\n",
       "      <td>2023-05-27</td>\n",
       "      <td>서울한방진흥센터</td>\n",
       "    </tr>\n",
       "    <tr>\n",
       "      <th>12032</th>\n",
       "      <td>이런 특강이 많았으면 좋겠습니다 ❤️</td>\n",
       "      <td>2023-08-19</td>\n",
       "      <td>서울한방진흥센터</td>\n",
       "    </tr>\n",
       "    <tr>\n",
       "      <th>12033</th>\n",
       "      <td>족욕과기계식맛사지,박물관전시그리고 다미가에서 차한잔 이 모두가 만원~힐링 제대로 하...</td>\n",
       "      <td>2023-04-15</td>\n",
       "      <td>서울한방진흥센터</td>\n",
       "    </tr>\n",
       "    <tr>\n",
       "      <th>12034</th>\n",
       "      <td>아이와 함께 족욕체험 및 전통의상체험 해보았어요.</td>\n",
       "      <td>2023-07-29</td>\n",
       "      <td>서울한방진흥센터</td>\n",
       "    </tr>\n",
       "    <tr>\n",
       "      <th>12035</th>\n",
       "      <td>쪼르르 쪼르르따끈한 물이 나온다.우리는 두명이 한스팟이어서 6000원 대이득!더보기</td>\n",
       "      <td>2023-07-13</td>\n",
       "      <td>서울한방진흥센터</td>\n",
       "    </tr>\n",
       "    <tr>\n",
       "      <th>...</th>\n",
       "      <td>...</td>\n",
       "      <td>...</td>\n",
       "      <td>...</td>\n",
       "    </tr>\n",
       "    <tr>\n",
       "      <th>12716</th>\n",
       "      <td>NaN</td>\n",
       "      <td>2023-06-04</td>\n",
       "      <td>해비치 호텔&amp;리조트 제주</td>\n",
       "    </tr>\n",
       "    <tr>\n",
       "      <th>12717</th>\n",
       "      <td>라운딩하기 최고로 좋은 골프장입니다</td>\n",
       "      <td>2023-04-20</td>\n",
       "      <td>해비치 호텔&amp;리조트 제주</td>\n",
       "    </tr>\n",
       "    <tr>\n",
       "      <th>12718</th>\n",
       "      <td>수모 빌렷는디 넘 ㄴ좋아요</td>\n",
       "      <td>2023-05-18</td>\n",
       "      <td>해비치 호텔&amp;리조트 제주</td>\n",
       "    </tr>\n",
       "    <tr>\n",
       "      <th>12719</th>\n",
       "      <td>또 오고 싶어요.</td>\n",
       "      <td>2023-05-18</td>\n",
       "      <td>해비치 호텔&amp;리조트 제주</td>\n",
       "    </tr>\n",
       "    <tr>\n",
       "      <th>12722</th>\n",
       "      <td>역시 5성급으로 청결, 서비스, 친절, 시설 모두 좋았습니다.</td>\n",
       "      <td>2023-02-03</td>\n",
       "      <td>해비치 호텔&amp;리조트 제주</td>\n",
       "    </tr>\n",
       "  </tbody>\n",
       "</table>\n",
       "<p>500 rows × 3 columns</p>\n",
       "</div>"
      ],
      "text/plain": [
       "                                                      리뷰         날짜  \\\n",
       "12031  우연히 가게됐는데 넘좋았어요. 미리알았다면 한옥카페에서 차를 사가서 마셨을겁니다. ... 2023-05-27   \n",
       "12032                               이런 특강이 많았으면 좋겠습니다 ❤️ 2023-08-19   \n",
       "12033  족욕과기계식맛사지,박물관전시그리고 다미가에서 차한잔 이 모두가 만원~힐링 제대로 하... 2023-04-15   \n",
       "12034                        아이와 함께 족욕체험 및 전통의상체험 해보았어요. 2023-07-29   \n",
       "12035     쪼르르 쪼르르따끈한 물이 나온다.우리는 두명이 한스팟이어서 6000원 대이득!더보기 2023-07-13   \n",
       "...                                                  ...        ...   \n",
       "12716                                                NaN 2023-06-04   \n",
       "12717                                라운딩하기 최고로 좋은 골프장입니다 2023-04-20   \n",
       "12718                                     수모 빌렷는디 넘 ㄴ좋아요 2023-05-18   \n",
       "12719                                          또 오고 싶어요. 2023-05-18   \n",
       "12722                 역시 5성급으로 청결, 서비스, 친절, 시설 모두 좋았습니다. 2023-02-03   \n",
       "\n",
       "                 업소명  \n",
       "12031       서울한방진흥센터  \n",
       "12032       서울한방진흥센터  \n",
       "12033       서울한방진흥센터  \n",
       "12034       서울한방진흥센터  \n",
       "12035       서울한방진흥센터  \n",
       "...              ...  \n",
       "12716  해비치 호텔&리조트 제주  \n",
       "12717  해비치 호텔&리조트 제주  \n",
       "12718  해비치 호텔&리조트 제주  \n",
       "12719  해비치 호텔&리조트 제주  \n",
       "12722  해비치 호텔&리조트 제주  \n",
       "\n",
       "[500 rows x 3 columns]"
      ]
     },
     "execution_count": 9,
     "metadata": {},
     "output_type": "execute_result"
    }
   ],
   "source": [
    "# 날짜 제한 (2023.01.01 ~ 2025.07.31)까지로 제한\n",
    "# 다른 데이터들과 어느정도 맞추기 위해서\n",
    "r2 = r2[(r2['날짜'] >= '2023-01-01') & (r2['날짜'] <= '2025-07-31')]\n",
    "r2['업소명'].value_counts()\n",
    "len(r2) #8499개 (5892개는 날짜 조건과 맞지 않아서 아웃)\n",
    "r2.iloc[7800:8300]"
   ]
  },
  {
   "cell_type": "code",
   "execution_count": 10,
   "id": "59e8bd0f",
   "metadata": {},
   "outputs": [
    {
     "data": {
      "text/plain": [
       "5892"
      ]
     },
     "execution_count": 10,
     "metadata": {},
     "output_type": "execute_result"
    }
   ],
   "source": [
    "14391 - 8499"
   ]
  },
  {
   "cell_type": "code",
   "execution_count": 11,
   "id": "28cbd2db",
   "metadata": {},
   "outputs": [],
   "source": [
    "# 최종 데이터 저장\n",
    "r2.to_csv('data/review_final.csv', index=False, encoding='utf-8-sig')"
   ]
  }
 ],
 "metadata": {
  "kernelspec": {
   "display_name": "base",
   "language": "python",
   "name": "python3"
  },
  "language_info": {
   "codemirror_mode": {
    "name": "ipython",
    "version": 3
   },
   "file_extension": ".py",
   "mimetype": "text/x-python",
   "name": "python",
   "nbconvert_exporter": "python",
   "pygments_lexer": "ipython3",
   "version": "3.12.7"
  }
 },
 "nbformat": 4,
 "nbformat_minor": 5
}
