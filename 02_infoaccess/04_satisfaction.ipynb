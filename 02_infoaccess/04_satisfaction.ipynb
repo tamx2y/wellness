{
 "cells": [
  {
   "cell_type": "markdown",
   "id": "28393d83",
   "metadata": {},
   "source": [
    "### 1. 가설\n",
    "- 혼자 방문한 외국인 웰니스 관광객은 자연경관 감상 및 뷰티 미용관광 활동에 대한 만족도가 상대적으로 높으며, 이는 재방문 의사에도 긍정적인 영향을 미칠 것"
   ]
  },
  {
   "cell_type": "code",
   "execution_count": 1,
   "id": "00312fc7",
   "metadata": {},
   "outputs": [],
   "source": [
    "# 기본 라이브러리\n",
    "import numpy as np\n",
    "import pandas as pd\n",
    "import matplotlib.pyplot as plt\n",
    "import seaborn as sns\n",
    "\n",
    "# 그래프 기본 테마 설정\n",
    "sns.set()\n",
    "\n",
    "# 그래프 기본 설정\n",
    "plt.rcParams['font.family'] = 'Malgun Gothic'\n",
    "plt.rcParams['figure.figsize'] = 12, 6\n",
    "plt.rcParams['font.size'] = 14\n",
    "plt.rcParams['axes.unicode_minus'] = False\n",
    "\n",
    "# 복잡한 통계 처리를 위한 라이브러리\n",
    "from scipy import stats\n",
    "import statsmodels as sm\n",
    "import statsmodels.api as sm\n",
    "from statsmodels.miscmodels.ordinal_model import OrderedModel\n",
    "from scipy.stats import mannwhitneyu, spearmanr, ttest_ind\n",
    "from statsmodels.formula.api import ols\n",
    "import statsmodels.formula.api as smf\n"
   ]
  },
  {
   "cell_type": "code",
   "execution_count": 2,
   "id": "f6a23430",
   "metadata": {},
   "outputs": [
    {
     "name": "stderr",
     "output_type": "stream",
     "text": [
      "C:\\Users\\Tammy Kim\\AppData\\Local\\Temp\\ipykernel_12708\\2270566129.py:1: DtypeWarning: Columns (28) have mixed types. Specify dtype option on import or set low_memory=False.\n",
      "  df = pd.read_csv('data/2324.csv')\n"
     ]
    },
    {
     "data": {
      "text/plain": [
       "9272"
      ]
     },
     "execution_count": 2,
     "metadata": {},
     "output_type": "execute_result"
    }
   ],
   "source": [
    "df = pd.read_csv('data/2324.csv')\n",
    "df.head()\n",
    "df.columns\n",
    "\n",
    "df['satis_nature'].isna().sum()"
   ]
  },
  {
   "cell_type": "code",
   "execution_count": 3,
   "id": "b92c200b",
   "metadata": {},
   "outputs": [
    {
     "data": {
      "text/plain": [
       "purpose\n",
       "1    19876\n",
       "2     4354\n",
       "Name: count, dtype: int64"
      ]
     },
     "execution_count": 3,
     "metadata": {},
     "output_type": "execute_result"
    }
   ],
   "source": [
    "# purpose\n",
    "df['visit_purpose_cat'].value_counts()\n",
    "df['purpose'].value_counts()\n",
    "\n",
    "# 1: 여가, 위락 19876명\n",
    "# 2: 친구, 친지 방문 4354명\n"
   ]
  },
  {
   "cell_type": "code",
   "execution_count": 4,
   "id": "859444a7",
   "metadata": {},
   "outputs": [
    {
     "data": {
      "text/plain": [
       "companion\n",
       "2    18524\n",
       "1     5706\n",
       "Name: count, dtype: int64"
      ]
     },
     "execution_count": 4,
     "metadata": {},
     "output_type": "execute_result"
    }
   ],
   "source": [
    "# companion\n",
    "df['companion'].value_counts()\n",
    "\n",
    "# 1: 동반자 있음 5706명\n",
    "# 2: 동반자 없음 18524명"
   ]
  },
  {
   "cell_type": "code",
   "execution_count": 5,
   "id": "99ec4f11",
   "metadata": {},
   "outputs": [
    {
     "data": {
      "text/plain": [
       "satis_beauty\n",
       "0.0    20631\n",
       "5.0     2373\n",
       "4.0      958\n",
       "3.0      237\n",
       "2.0       22\n",
       "1.0        9\n",
       "Name: count, dtype: int64"
      ]
     },
     "execution_count": 5,
     "metadata": {},
     "output_type": "execute_result"
    }
   ],
   "source": [
    "# satis_beauty\n",
    "# 컬럼에 값이 있는 응답자 -> 뷰티/미용 관광 참여 그룹\n",
    "# null값인 응답자 -> 비참여 그룹\n",
    "\n",
    "df['satis_beauty'] = df['satis_beauty'].fillna(0)\n",
    "df['satis_beauty'].value_counts()\n"
   ]
  },
  {
   "cell_type": "code",
   "execution_count": 6,
   "id": "fe7c1ce2",
   "metadata": {},
   "outputs": [
    {
     "data": {
      "text/plain": [
       "satis_nature\n",
       "5.0    10851\n",
       "4.0     3686\n",
       "3.0      391\n",
       "2.0       19\n",
       "1.0       11\n",
       "Name: count, dtype: int64"
      ]
     },
     "metadata": {},
     "output_type": "display_data"
    },
    {
     "data": {
      "text/plain": [
       "9272"
      ]
     },
     "metadata": {},
     "output_type": "display_data"
    },
    {
     "name": "stdout",
     "output_type": "stream",
     "text": [
      "satis_nature\n",
      "5.0    10851\n",
      "0.0     9272\n",
      "4.0     3686\n",
      "3.0      391\n",
      "2.0       19\n",
      "1.0       11\n",
      "Name: count, dtype: int64\n"
     ]
    }
   ],
   "source": [
    "# satis_nature\n",
    "# 컬럼에 값이 있는 응답자 -> 자연관광 참여 그룹\n",
    "# null값인 응답자 -> 비참여 그룹\n",
    "\n",
    "display(df['satis_nature'].value_counts())\n",
    "display(df['satis_nature'].isna().sum())\n",
    "\n",
    "df['satis_nature'] = df['satis_nature'].fillna(0)\n",
    "print(df['satis_nature'].value_counts())"
   ]
  },
  {
   "cell_type": "code",
   "execution_count": 7,
   "id": "8b23f3a7",
   "metadata": {},
   "outputs": [
    {
     "data": {
      "text/plain": [
       "0"
      ]
     },
     "execution_count": 7,
     "metadata": {},
     "output_type": "execute_result"
    }
   ],
   "source": [
    "# revisit_int\n",
    "df['revisit_intent'].value_counts()\n",
    "df['revisit_intent'].isna().sum()"
   ]
  },
  {
   "cell_type": "code",
   "execution_count": 8,
   "id": "d2ec08fa",
   "metadata": {},
   "outputs": [
    {
     "data": {
      "text/plain": [
       "recommend_intent\n",
       "5    17111\n",
       "4     6442\n",
       "3      619\n",
       "2       42\n",
       "1       16\n",
       "Name: count, dtype: int64"
      ]
     },
     "execution_count": 8,
     "metadata": {},
     "output_type": "execute_result"
    }
   ],
   "source": [
    "# recommend_intent\n",
    "df['recommend_intent'].value_counts()"
   ]
  },
  {
   "cell_type": "code",
   "execution_count": 9,
   "id": "77c00733",
   "metadata": {},
   "outputs": [],
   "source": [
    "# Step 1: 웰니스 관광객 추출\n",
    "df_well = df[df['visit_purpose_cat'] == 1].copy()\n",
    "\n",
    "# Step 2: 동반자 그룹화 먼저\n",
    "df_well['comp_group'] = df_well['companion'].apply(lambda x: 'solo' if x == 2 else 'with_others')\n",
    "\n",
    "# Step 3: 참여 여부 변수\n",
    "df_well['beauty_participated'] = df_well['satis_beauty'].notnull().astype(int)\n",
    "df_well['nature_participated'] = df_well['satis_nature'].notnull().astype(int)\n",
    "\n",
    "# Step 4: 참여자만 추출\n",
    "df_nature = df_well[df_well['nature_participated'] == 1]\n",
    "df_beauty = df_well[df_well['beauty_participated'] == 1]\n"
   ]
  },
  {
   "cell_type": "markdown",
   "id": "4071b376",
   "metadata": {},
   "source": [
    "### 0을 포함해서 분석\n",
    "- 문제: 0을 포함하니 통계값에서 왜곡이 발생함. "
   ]
  },
  {
   "cell_type": "code",
   "execution_count": 10,
   "id": "b57c50ff",
   "metadata": {},
   "outputs": [
    {
     "name": "stdout",
     "output_type": "stream",
     "text": [
      "자연 만족도 Mann-Whitney U Test: 32422264.5 p = 8.050693979408183e-32\n",
      "뷰티 만족도 Mann-Whitney U Test: 30250732.5 p = 4.851201171907497e-10\n"
     ]
    }
   ],
   "source": [
    "# 자연 만족도\n",
    "solo_nat = df_nature[df_nature['comp_group'] == 'solo']['satis_nature']\n",
    "group_nat = df_nature[df_nature['comp_group'] == 'with_others']['satis_nature']\n",
    "\n",
    "stat_nat, p_nat = mannwhitneyu(solo_nat, group_nat, alternative='two-sided')\n",
    "print(\"자연 만족도 Mann-Whitney U Test:\", stat_nat, \"p =\", p_nat)\n",
    "\n",
    "# 뷰티 만족도\n",
    "solo_beau = df_beauty[df_beauty['comp_group'] == 'solo']['satis_beauty']\n",
    "group_beau = df_beauty[df_beauty['comp_group'] == 'with_others']['satis_beauty']\n",
    "\n",
    "stat_beau, p_beau = mannwhitneyu(solo_beau, group_beau, alternative='two-sided')\n",
    "print(\"뷰티 만족도 Mann-Whitney U Test:\", stat_beau, \"p =\", p_beau)\n",
    "\n",
    "# 1. 자연: p<0.05, 혼자 여행한 그룹과 다른 사람들과 함께 여행한 그룹 간 자연 만족도는 통계적으로 유의한 차이가 있음\n",
    "# 2. 뷰티: 자연과 동일"
   ]
  },
  {
   "cell_type": "code",
   "execution_count": 11,
   "id": "b5cf04bb",
   "metadata": {},
   "outputs": [
    {
     "name": "stdout",
     "output_type": "stream",
     "text": [
      "comp_group\n",
      "solo           2.969658\n",
      "with_others    2.386019\n",
      "Name: satis_nature, dtype: float64\n",
      "comp_group\n",
      "solo           4.0\n",
      "with_others    3.0\n",
      "Name: satis_nature, dtype: float64\n"
     ]
    },
    {
     "name": "stderr",
     "output_type": "stream",
     "text": [
      "C:\\Users\\Tammy Kim\\AppData\\Local\\Temp\\ipykernel_12708\\4293647488.py:11: FutureWarning: \n",
      "\n",
      "The `ci` parameter is deprecated. Use `errorbar=None` for the same effect.\n",
      "\n",
      "  sns.barplot(x='comp_group', y='satis_nature', data = df_nature, estimator=np.median, ci=None, palette='viridis')\n",
      "C:\\Users\\Tammy Kim\\AppData\\Local\\Temp\\ipykernel_12708\\4293647488.py:11: FutureWarning: \n",
      "\n",
      "Passing `palette` without assigning `hue` is deprecated and will be removed in v0.14.0. Assign the `x` variable to `hue` and set `legend=False` for the same effect.\n",
      "\n",
      "  sns.barplot(x='comp_group', y='satis_nature', data = df_nature, estimator=np.median, ci=None, palette='viridis')\n"
     ]
    },
    {
     "data": {
      "image/png": "[encoded data removed]",
      "text/plain": [
       "<Figure size 1200x600 with 1 Axes>"
      ]
     },
     "metadata": {},
     "output_type": "display_data"
    },
    {
     "data": {
      "text/plain": [
       "satis_nature\n",
       "5.0    7321\n",
       "0.0    5946\n",
       "4.0    2730\n",
       "3.0     295\n",
       "2.0      15\n",
       "1.0       7\n",
       "Name: count, dtype: int64"
      ]
     },
     "metadata": {},
     "output_type": "display_data"
    },
    {
     "data": {
      "text/html": [
       "<div>\n",
       "<style scoped>\n",
       "    .dataframe tbody tr th:only-of-type {\n",
       "        vertical-align: middle;\n",
       "    }\n",
       "\n",
       "    .dataframe tbody tr th {\n",
       "        vertical-align: top;\n",
       "    }\n",
       "\n",
       "    .dataframe thead th {\n",
       "        text-align: right;\n",
       "    }\n",
       "</style>\n",
       "<table border=\"1\" class=\"dataframe\">\n",
       "  <thead>\n",
       "    <tr style=\"text-align: right;\">\n",
       "      <th></th>\n",
       "      <th>count</th>\n",
       "      <th>mean</th>\n",
       "      <th>std</th>\n",
       "      <th>min</th>\n",
       "      <th>25%</th>\n",
       "      <th>50%</th>\n",
       "      <th>75%</th>\n",
       "      <th>max</th>\n",
       "    </tr>\n",
       "    <tr>\n",
       "      <th>comp_group</th>\n",
       "      <th></th>\n",
       "      <th></th>\n",
       "      <th></th>\n",
       "      <th></th>\n",
       "      <th></th>\n",
       "      <th></th>\n",
       "      <th></th>\n",
       "      <th></th>\n",
       "    </tr>\n",
       "  </thead>\n",
       "  <tbody>\n",
       "    <tr>\n",
       "      <th>solo</th>\n",
       "      <td>16314.0</td>\n",
       "      <td>2.969658</td>\n",
       "      <td>2.290120</td>\n",
       "      <td>0.0</td>\n",
       "      <td>0.0</td>\n",
       "      <td>4.0</td>\n",
       "      <td>5.0</td>\n",
       "      <td>5.0</td>\n",
       "    </tr>\n",
       "    <tr>\n",
       "      <th>with_others</th>\n",
       "      <td>3562.0</td>\n",
       "      <td>2.386019</td>\n",
       "      <td>2.389614</td>\n",
       "      <td>0.0</td>\n",
       "      <td>0.0</td>\n",
       "      <td>3.0</td>\n",
       "      <td>5.0</td>\n",
       "      <td>5.0</td>\n",
       "    </tr>\n",
       "  </tbody>\n",
       "</table>\n",
       "</div>"
      ],
      "text/plain": [
       "               count      mean       std  min  25%  50%  75%  max\n",
       "comp_group                                                       \n",
       "solo         16314.0  2.969658  2.290120  0.0  0.0  4.0  5.0  5.0\n",
       "with_others   3562.0  2.386019  2.389614  0.0  0.0  3.0  5.0  5.0"
      ]
     },
     "execution_count": 11,
     "metadata": {},
     "output_type": "execute_result"
    }
   ],
   "source": [
    "# 자연 만족도 평균\n",
    "# null을 0으로 처리했기 때문에 아마 평균값은 신뢰하기 어려울 듯\n",
    "avg_nature = df_nature.groupby('comp_group')['satis_nature'].mean()\n",
    "print(avg_nature)\n",
    "\n",
    "# 자연 만족도 median\n",
    "median_nature = df_nature.groupby('comp_group')['satis_nature'].median()\n",
    "print(median_nature)\n",
    "\n",
    "# 시각화\n",
    "sns.barplot(x='comp_group', y='satis_nature', data = df_nature, estimator=np.median, ci=None, palette='viridis')\n",
    "plt.title('그룹별 자연 만족도 분포')\n",
    "plt.xlabel('참여그룹')\n",
    "plt.ylabel('자연 만족도 점수')\n",
    "plt.tight_layout()\n",
    "plt.show()\n",
    "\n",
    "display(df_nature[df_nature['comp_group'] == 'solo']['satis_nature'].value_counts())\n",
    "df_nature.groupby('comp_group')['satis_nature'].describe() "
   ]
  },
  {
   "cell_type": "code",
   "execution_count": 12,
   "id": "1de4df7a",
   "metadata": {},
   "outputs": [
    {
     "name": "stdout",
     "output_type": "stream",
     "text": [
      "자연 만족도 vs 재방문 의사 Spearman: 0.026198030058882736 p = 0.00022087599954017295\n",
      "뷰티 만족도 vs 재방문 의사 Spearman: 0.014354495603064992 p = 0.04300037695377344\n"
     ]
    }
   ],
   "source": [
    "from scipy.stats import spearmanr\n",
    "\n",
    "# 전체 대상 (자연/뷰티 만족도와 재방문 의사)\n",
    "corr_nat, p_nat = spearmanr(df_nature['satis_nature'], df_nature['revisit_intent'])\n",
    "corr_beau, p_beau = spearmanr(df_beauty['satis_beauty'], df_beauty['revisit_intent'])\n",
    "\n",
    "print(\"자연 만족도 vs 재방문 의사 Spearman:\", corr_nat, \"p =\", p_nat)\n",
    "print(\"뷰티 만족도 vs 재방문 의사 Spearman:\", corr_beau, \"p =\", p_beau)\n"
   ]
  },
  {
   "cell_type": "code",
   "execution_count": 13,
   "id": "5aac50ab",
   "metadata": {},
   "outputs": [
    {
     "name": "stdout",
     "output_type": "stream",
     "text": [
      "comp_group\n",
      "solo           0.0\n",
      "with_others    0.0\n",
      "Name: satis_beauty, dtype: float64\n",
      "comp_group\n",
      "solo           0.715091\n",
      "with_others    0.528355\n",
      "Name: satis_beauty, dtype: float64\n"
     ]
    }
   ],
   "source": [
    "# 뷰티 만족도\n",
    "median_beauty = df_beauty.groupby('comp_group')['satis_beauty'].median()\n",
    "print(median_beauty)\n",
    "\n",
    "avg_beauty = df_beauty.groupby('comp_group')['satis_beauty'].mean()\n",
    "print(avg_beauty)"
   ]
  },
  {
   "cell_type": "markdown",
   "id": "675c9417",
   "metadata": {},
   "source": [
    "### 0을 제외하고 통계분석 시작"
   ]
  },
  {
   "cell_type": "code",
   "execution_count": 22,
   "id": "684e108b",
   "metadata": {},
   "outputs": [],
   "source": [
    "# 뷰티/자연 만족도 참여자만 필터링\n",
    "df_b = df_well[df_well['beauty_participated'] == 1].copy()\n",
    "df_n = df_well[df_well['nature_participated'] == 1].copy()\n",
    "\n",
    "# 동반자 변수 이진화 (단독 여행 여부)\n",
    "df_b['comp_solo'] = (df_b['comp_group'] == 'solo').astype(int)\n",
    "df_n['comp_solo'] = (df_n['comp_group'] == 'solo').astype(int)\n"
   ]
  },
  {
   "cell_type": "code",
   "execution_count": 23,
   "id": "d06a129f",
   "metadata": {},
   "outputs": [
    {
     "name": "stdout",
     "output_type": "stream",
     "text": [
      "[뷰티 만족도] Mann–Whitney U 결과\n",
      "U 통계량: 30250732.500\n",
      "p값: 0.0000\n"
     ]
    }
   ],
   "source": [
    "# 뷰티 만족도 - 단독 vs. 동행\n",
    "solo_b = df_b[df_b['comp_solo'] == 1]['satis_beauty']\n",
    "group_b = df_b[df_b['comp_solo'] == 0]['satis_beauty']\n",
    "\n",
    "stat_b, p_b = mannwhitneyu(solo_b, group_b, alternative='two-sided')\n",
    "\n",
    "print(f\"[뷰티 만족도] Mann–Whitney U 결과\")\n",
    "print(f\"U 통계량: {stat_b:.3f}\")\n",
    "print(f\"p값: {p_b:.4f}\")\n"
   ]
  },
  {
   "cell_type": "code",
   "execution_count": 24,
   "id": "b3782779",
   "metadata": {},
   "outputs": [
    {
     "name": "stdout",
     "output_type": "stream",
     "text": [
      "\n",
      "[자연 만족도] Mann–Whitney U 결과\n",
      "U 통계량: 32422264.500\n",
      "p값: 0.0000\n"
     ]
    }
   ],
   "source": [
    "# 자연 만족도 - 단독 vs. 동행\n",
    "solo_n = df_n[df_n['comp_solo'] == 1]['satis_nature']\n",
    "group_n = df_n[df_n['comp_solo'] == 0]['satis_nature']\n",
    "\n",
    "stat_n, p_n = mannwhitneyu(solo_n, group_n, alternative='two-sided')\n",
    "\n",
    "print(f\"\\n[자연 만족도] Mann–Whitney U 결과\")\n",
    "print(f\"U 통계량: {stat_n:.3f}\")\n",
    "print(f\"p값: {p_n:.4f}\")\n"
   ]
  },
  {
   "cell_type": "code",
   "execution_count": 25,
   "id": "137d1af7",
   "metadata": {},
   "outputs": [
    {
     "name": "stdout",
     "output_type": "stream",
     "text": [
      "[뷰티 만족도 (0 제외)]\n",
      "단독 여행자 평균: 4.56, 중앙값: 5.0\n",
      "동행 여행자 평균: 4.58, 중앙값: 5.0\n",
      "\n",
      "[자연 만족도 (0 제외)]\n",
      "단독 여행자 평균: 4.67, 중앙값: 5.0\n",
      "동행 여행자 평균: 4.72, 중앙값: 5.0\n"
     ]
    }
   ],
   "source": [
    "# 뷰티 만족도 - 0점 제외, 단독/동행 분리\n",
    "solo_b_no0 = df_b[(df_b['comp_solo'] == 1) & (df_b['satis_beauty'] > 0)]['satis_beauty']\n",
    "group_b_no0 = df_b[(df_b['comp_solo'] == 0) & (df_b['satis_beauty'] > 0)]['satis_beauty']\n",
    "\n",
    "# 자연 만족도 - 0점 제외, 단독/동행 분리\n",
    "solo_n_no0 = df_n[(df_n['comp_solo'] == 1) & (df_n['satis_nature'] > 0)]['satis_nature']\n",
    "group_n_no0 = df_n[(df_n['comp_solo'] == 0) & (df_n['satis_nature'] > 0)]['satis_nature']\n",
    "\n",
    "# 뷰티 평균, 중앙값\n",
    "print(\"[뷰티 만족도 (0 제외)]\")\n",
    "print(f\"단독 여행자 평균: {solo_b_no0.mean():.2f}, 중앙값: {solo_b_no0.median()}\")\n",
    "print(f\"동행 여행자 평균: {group_b_no0.mean():.2f}, 중앙값: {group_b_no0.median()}\")\n",
    "\n",
    "# 자연 평균, 중앙값\n",
    "print(\"\\n[자연 만족도 (0 제외)]\")\n",
    "print(f\"단독 여행자 평균: {solo_n_no0.mean():.2f}, 중앙값: {solo_n_no0.median()}\")\n",
    "print(f\"동행 여행자 평균: {group_n_no0.mean():.2f}, 중앙값: {group_n_no0.median()}\")\n"
   ]
  },
  {
   "cell_type": "markdown",
   "id": "500c9556",
   "metadata": {},
   "source": [
    "-> 여기까지 진행했을 때, 이미 두 군의 만족도 평균과 중앙값의 차이가 크게 없기 때문에(5점이 압도적으로 많음), 그 다음의 분석을 진행하는 것에 대해서는 조금 더 논의가 필요할 듯"
   ]
  },
  {
   "cell_type": "code",
   "execution_count": 26,
   "id": "fbecf269",
   "metadata": {},
   "outputs": [
    {
     "name": "stdout",
     "output_type": "stream",
     "text": [
      "\n",
      "--- 자연 만족도 Mann-Whitney U Test 및 Cliff's Delta (RBC) 효과 크기 (0 제외) ---\n",
      "          U-val alternative     p-val       RBC      CLES\n",
      "MWU  12434625.0   two-sided  0.811297 -0.002638  0.498681\n",
      "\n",
      "Cliff's Delta (RBC) 효과 크기: -0.0026\n",
      " -> 효과 크기가 매우 작음 (Trivial effect)\n"
     ]
    },
    {
     "name": "stderr",
     "output_type": "stream",
     "text": [
      "C:\\Users\\Tammy Kim\\AppData\\Local\\Temp\\ipykernel_12708\\1146706383.py:40: FutureWarning: Series.__getitem__ treating keys as positions is deprecated. In a future version, integer keys will always be treated as labels (consistent with DataFrame behavior). To access a value by position, use `ser.iloc[pos]`\n",
      "  cliff_delta_rbc = mwu_results['RBC'][0]\n"
     ]
    }
   ],
   "source": [
    "import pandas as pd\n",
    "import pingouin as pg\n",
    "import numpy as np\n",
    "\n",
    "# df_nature와 df_beauty DataFrame이 이미 로드되어 있다고 가정합니다.\n",
    "# 0 값이 '참여하지 않음'이라면, 필터링된 데이터를 사용하세요.\n",
    "\n",
    "# --- 데이터 준비 (예시 - 이전 코드에서 가져옴) ---\n",
    "# 실제 데이터 사용 시 이 부분은 건너뛰고 df_nature, df_beauty를 사용하세요.\n",
    "np.random.seed(42)\n",
    "data_nature = {\n",
    "    'comp_group': ['solo'] * 5000 + ['with_others'] * 5000,\n",
    "    'satis_nature': np.concatenate([\n",
    "        np.random.randint(1, 6, size=4500), # 실제 만족도 (1-5)\n",
    "        np.zeros(500) # 0점 (참여 안함)\n",
    "    ]).tolist()\n",
    "}\n",
    "data_nature['satis_nature'][:5000] = (np.random.normal(loc=4.2, scale=1.0, size=5000).clip(0, 5)).astype(int).tolist()\n",
    "data_nature['satis_nature'][5000:] = (np.random.normal(loc=4.0, scale=1.0, size=5000).clip(0, 5)).astype(int).tolist()\n",
    "np.random.shuffle(data_nature['satis_nature'])\n",
    "df_nature = pd.DataFrame(data_nature)\n",
    "\n",
    "# 0 값 필터링 (만약 0이 '참여 안 함'을 의미한다면)\n",
    "df_nature_filtered = df_nature[df_nature['satis_nature'] != 0].copy()\n",
    "\n",
    "# --- 자연 만족도 분석 (0 제외 데이터 사용) ---\n",
    "solo_nat = df_nature_filtered[df_nature_filtered['comp_group'] == 'solo']['satis_nature']\n",
    "group_nat = df_nature_filtered[df_nature_filtered['comp_group'] == 'with_others']['satis_nature']\n",
    "\n",
    "\n",
    "print(\"\\n--- 자연 만족도 Mann-Whitney U Test 및 Cliff's Delta (RBC) 효과 크기 (0 제외) ---\")\n",
    "\n",
    "if not solo_nat.empty and not group_nat.empty:\n",
    "    # pingouin을 사용하여 Mann-Whitney U Test 및 효과 크기 계산\n",
    "    mwu_results = pg.mwu(solo_nat, group_nat, alternative='two-sided')\n",
    "    print(mwu_results) # 결과 DataFrame 전체를 출력하여 컬럼 이름 확인\n",
    "\n",
    "    # 결과에서 Cliff's Delta에 해당하는 'RBC' 값 추출\n",
    "    if 'RBC' in mwu_results.columns:\n",
    "        cliff_delta_rbc = mwu_results['RBC'][0]\n",
    "        print(f\"\\nCliff's Delta (RBC) 효과 크기: {cliff_delta_rbc:.4f}\")\n",
    "\n",
    "        # Cliff's Delta (RBC) 해석 가이드라인\n",
    "        # abs(RBC)를 사용하여 효과 크기의 강도를 평가합니다.\n",
    "        abs_cliff_delta_rbc = abs(cliff_delta_rbc)\n",
    "        if abs_cliff_delta_rbc < 0.1:\n",
    "            print(\" -> 효과 크기가 매우 작음 (Trivial effect)\")\n",
    "        elif abs_cliff_delta_rbc < 0.3:\n",
    "            print(\" -> 효과 크기가 작음 (Small effect)\")\n",
    "        elif abs_cliff_delta_rbc < 0.5:\n",
    "            print(\" -> 효과 크기가 중간 (Medium effect)\")\n",
    "        else:\n",
    "            print(\" -> 효과 크기가 큼 (Large effect)\")\n",
    "    else:\n",
    "        print(\"오류: 'RBC' 컬럼을 찾을 수 없습니다. mwu_results.columns를 확인하세요.\")\n",
    "        print(\"사용 가능한 컬럼:\", mwu_results.columns)\n",
    "        # 만약 RBC도 없다면, 다른 컬럼 이름을 확인해야 합니다.\n",
    "else:\n",
    "    print(\"0을 제외한 후 한 그룹의 데이터가 비어있어 분석을 수행할 수 없습니다.\")"
   ]
  },
  {
   "cell_type": "markdown",
   "id": "145fb721",
   "metadata": {},
   "source": [
    "**p-val: 0.811297**\n",
    "- p-value가 0.811297로, 일반적으로 유의수준으로 사용하는 0.05보다 훨씬 큽니다.\n",
    "- 해석: 이는 '혼자' 여행한 그룹과 '다른 사람들과 함께' 여행한 그룹 간 자연 만족도에 통계적으로 유의미한 차이가 없다고 결론 내릴 수 있다는 의미입니다. 귀무 가설(H_0: 두 그룹 간 차이가 없다)을 기각할 만한 충분한 통계적 증거가 없습니다.\n",
    "\n",
    "**CLES: 0.498681**\n",
    "- CLES (Common Language Effect Size)는 첫 번째 그룹에서 무작위로 뽑은 값이 두 번째 그룹에서 무작위로 뽑은 값보다 클 확률을 의미합니다.\n",
    "- 해석: 0.5에 매우 가깝습니다. 이는 두 그룹의 만족도가 거의 동일하며, 한 그룹의 만족도가 다른 그룹보다 높을 확률이 50%에 가깝다는 뜻이므로, 두 그룹 간에 실질적인 차이가 거의 없음을 다시 한번 강조합니다.\n"
   ]
  }
 ],
 "metadata": {
  "kernelspec": {
   "display_name": "base",
   "language": "python",
   "name": "python3"
  },
  "language_info": {
   "codemirror_mode": {
    "name": "ipython",
    "version": 3
   },
   "file_extension": ".py",
   "mimetype": "text/x-python",
   "name": "python",
   "nbconvert_exporter": "python",
   "pygments_lexer": "ipython3",
   "version": "3.12.7"
  }
 },
 "nbformat": 4,
 "nbformat_minor": 5
}
