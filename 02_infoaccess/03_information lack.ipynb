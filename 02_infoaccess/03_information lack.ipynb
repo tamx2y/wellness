{
 "cells": [
  {
   "cell_type": "code",
   "execution_count": 13,
   "id": "248251d2",
   "metadata": {},
   "outputs": [],
   "source": [
    "# 기본 라이브러리\n",
    "import numpy as np\n",
    "import pandas as pd\n",
    "import matplotlib.pyplot as plt\n",
    "import seaborn as sns\n",
    "\n",
    "# 그래프 기본 테마 설정\n",
    "sns.set()\n",
    "\n",
    "# 그래프 기본 설정\n",
    "plt.rcParams['font.family'] = 'Malgun Gothic'\n",
    "plt.rcParams['figure.figsize'] = 12, 6\n",
    "plt.rcParams['font.size'] = 14\n",
    "plt.rcParams['axes.unicode_minus'] = False\n",
    "\n",
    "# 복잡한 통계 처리를 위한 라이브러리\n",
    "from scipy import stats\n",
    "import statsmodels as sm\n",
    "import statsmodels.api as sm\n",
    "from statsmodels.miscmodels.ordinal_model import OrderedModel"
   ]
  },
  {
   "cell_type": "code",
   "execution_count": 14,
   "id": "12245731",
   "metadata": {},
   "outputs": [
    {
     "name": "stderr",
     "output_type": "stream",
     "text": [
      "C:\\Users\\Tammy Kim\\AppData\\Local\\Temp\\ipykernel_18076\\3492930622.py:1: DtypeWarning: Columns (28) have mixed types. Specify dtype option on import or set low_memory=False.\n",
      "  data = pd.read_csv('data/2324.csv')\n"
     ]
    },
    {
     "data": {
      "text/plain": [
       "Index(['id', 'visitnum', 'triptype', 'purpose', 'act_interest',\n",
       "       'infra_interest', 'info_1', 'info_2', 'info_3', 'info_na',\n",
       "       ...\n",
       "       'nationality', 'gender', 'age_group', 'visit_purpose_cat',\n",
       "       'visit_count_cat', 'trip_type_cat', 'weight', 'year', 'wellness',\n",
       "       'infolack'],\n",
       "      dtype='object', length=105)"
      ]
     },
     "execution_count": 14,
     "metadata": {},
     "output_type": "execute_result"
    }
   ],
   "source": [
    "data = pd.read_csv('data/2324.csv')\n",
    "data.head()\n",
    "data.columns"
   ]
  },
  {
   "cell_type": "code",
   "execution_count": 15,
   "id": "1d168d9b",
   "metadata": {},
   "outputs": [
    {
     "data": {
      "text/html": [
       "<div>\n",
       "<style scoped>\n",
       "    .dataframe tbody tr th:only-of-type {\n",
       "        vertical-align: middle;\n",
       "    }\n",
       "\n",
       "    .dataframe tbody tr th {\n",
       "        vertical-align: top;\n",
       "    }\n",
       "\n",
       "    .dataframe thead th {\n",
       "        text-align: right;\n",
       "    }\n",
       "</style>\n",
       "<table border=\"1\" class=\"dataframe\">\n",
       "  <thead>\n",
       "    <tr style=\"text-align: right;\">\n",
       "      <th></th>\n",
       "      <th>overall_satis</th>\n",
       "      <th>infolack</th>\n",
       "      <th>wellness</th>\n",
       "      <th>gender</th>\n",
       "      <th>age_group</th>\n",
       "      <th>purpose</th>\n",
       "      <th>visitnum</th>\n",
       "      <th>triptype</th>\n",
       "      <th>companion</th>\n",
       "    </tr>\n",
       "  </thead>\n",
       "  <tbody>\n",
       "    <tr>\n",
       "      <th>0</th>\n",
       "      <td>5</td>\n",
       "      <td>2</td>\n",
       "      <td>0</td>\n",
       "      <td>2</td>\n",
       "      <td>2</td>\n",
       "      <td>1</td>\n",
       "      <td>4</td>\n",
       "      <td>1</td>\n",
       "      <td>1</td>\n",
       "    </tr>\n",
       "    <tr>\n",
       "      <th>1</th>\n",
       "      <td>5</td>\n",
       "      <td>0</td>\n",
       "      <td>1</td>\n",
       "      <td>1</td>\n",
       "      <td>3</td>\n",
       "      <td>2</td>\n",
       "      <td>4</td>\n",
       "      <td>1</td>\n",
       "      <td>1</td>\n",
       "    </tr>\n",
       "    <tr>\n",
       "      <th>2</th>\n",
       "      <td>4</td>\n",
       "      <td>0</td>\n",
       "      <td>0</td>\n",
       "      <td>2</td>\n",
       "      <td>4</td>\n",
       "      <td>2</td>\n",
       "      <td>3</td>\n",
       "      <td>1</td>\n",
       "      <td>1</td>\n",
       "    </tr>\n",
       "    <tr>\n",
       "      <th>3</th>\n",
       "      <td>5</td>\n",
       "      <td>3</td>\n",
       "      <td>0</td>\n",
       "      <td>2</td>\n",
       "      <td>4</td>\n",
       "      <td>1</td>\n",
       "      <td>1</td>\n",
       "      <td>1</td>\n",
       "      <td>2</td>\n",
       "    </tr>\n",
       "    <tr>\n",
       "      <th>4</th>\n",
       "      <td>5</td>\n",
       "      <td>3</td>\n",
       "      <td>1</td>\n",
       "      <td>2</td>\n",
       "      <td>3</td>\n",
       "      <td>1</td>\n",
       "      <td>1</td>\n",
       "      <td>1</td>\n",
       "      <td>2</td>\n",
       "    </tr>\n",
       "  </tbody>\n",
       "</table>\n",
       "</div>"
      ],
      "text/plain": [
       "   overall_satis  infolack  wellness  gender  age_group  purpose  visitnum  \\\n",
       "0              5         2         0       2          2        1         4   \n",
       "1              5         0         1       1          3        2         4   \n",
       "2              4         0         0       2          4        2         3   \n",
       "3              5         3         0       2          4        1         1   \n",
       "4              5         3         1       2          3        1         1   \n",
       "\n",
       "   triptype  companion  \n",
       "0         1          1  \n",
       "1         1          1  \n",
       "2         1          1  \n",
       "3         1          2  \n",
       "4         1          2  "
      ]
     },
     "execution_count": 15,
     "metadata": {},
     "output_type": "execute_result"
    }
   ],
   "source": [
    "# 통제변수\n",
    "model_df = data[['overall_satis', 'infolack', 'wellness', 'gender', 'age_group', 'purpose', 'visitnum', 'triptype', 'companion' ]].copy()\n",
    "# 다중 회귀 분석을 위한 결측치 제거\n",
    "model_df.dropna(inplace=True)\n",
    "model_df.head()"
   ]
  },
  {
   "cell_type": "code",
   "execution_count": 19,
   "id": "364f7464",
   "metadata": {},
   "outputs": [
    {
     "name": "stdout",
     "output_type": "stream",
     "text": [
      "Optimization terminated successfully.\n",
      "         Current function value: 0.736604\n",
      "         Iterations: 65\n",
      "         Function evaluations: 66\n",
      "         Gradient evaluations: 66\n",
      "\n",
      "--- 주요 변수 결과 해석 ---\n",
      "정보 부족 (infolack) 계수: -0.100, P-value: 0.000\n",
      "웰니스 여부 (wellness) 계수: -0.175, P-value: 0.001\n",
      "\n",
      "상호작용 항은 유의미하지 않으나, 정보 부족 (infolack) 자체가 만족도에 유의미한 영향을 미칩니다.\n"
     ]
    }
   ],
   "source": [
    "# 종속변수\n",
    "y = model_df['overall_satis']\n",
    "\n",
    "# 상호작용 항 생성\n",
    "model_df['infolack+wellness'] = model_df['infolack'] * model_df['wellness']\n",
    "\n",
    "# 독립변수 리스트\n",
    "X_cols = ['infolack', 'wellness', 'infolack+wellness', 'gender', 'age_group', 'purpose', 'visitnum', 'triptype', 'companion']\n",
    "X = model_df[X_cols]\n",
    "\n",
    "# 순서형 로지스틱 회귀 모델\n",
    "model = OrderedModel(y, X, distr='logit')\n",
    "results = model.fit(method='bfgs')\n",
    "\n",
    "# 주요 결과 해석\n",
    "print(\"\\n--- 주요 변수 결과 해석 ---\")\n",
    "if 'infolack' in results.params:\n",
    "    print(f\"정보 부족 (infolack) 계수: {results.params['infolack']:.3f}, P-value: {results.pvalues['infolack']:.3f}\")\n",
    "if 'wellness' in results.params:\n",
    "    print(f\"웰니스 여부 (wellness) 계수: {results.params['wellness']:.3f}, P-value: {results.pvalues['wellness']:.3f}\")\n",
    "if 'infolack_x_wellness' in results.params:\n",
    "    print(f\"정보 부족 * 웰니스 (상호작용) 계수: {results.params['infolack_x_wellness']:.3f}, P-value: {results.pvalues['infolack_x_wellness']:.3f}\")\n",
    "\n",
    "if 'infolack_x_wellness' in results.pvalues and results.pvalues['infolack_x_wellness'] < 0.05:\n",
    "    print(\"\\n상호작용 항이 통계적으로 유의미합니다.\")\n",
    "    print(\"이는 웰니스 그룹에서 정보 부족이 만족도에 미치는 영향이 일반 그룹과 다름을 의미합니다.\")\n",
    "elif 'infolack' in results.pvalues and results.pvalues['infolack'] < 0.05:\n",
    "    print(\"\\n상호작용 항은 유의미하지 않으나, 정보 부족 (infolack) 자체가 만족도에 유의미한 영향을 미칩니다.\")\n",
    "else:\n",
    "    print(\"\\n정보 부족과 웰니스 여부, 그리고 그 상호작용이 만족도에 유의미한 영향을 미치지 않습니다.\")"
   ]
  },
  {
   "cell_type": "markdown",
   "id": "d1ec6b1f",
   "metadata": {},
   "source": [
    "### logistic regression model 해석\n",
    "1. 정보 부족 (infolack)의 계수: -0.100 (p < 0.001)\n",
    "- 정보 부족 점수가 높을수록 전반적인 만족도는 낮아진다는 의미\n",
    "- 계수가 음수이므로, 정보 부족 경험이 만족도를 저해하는 요인임을 시사\n",
    "\n",
    "2. 웰니스 여부 (wellness)의 계수: -0.175 (p = 0.001)\n",
    "- 웰니스 방문자는 비웰니스 방문자에 비해 만족도가 유의미하게 낮다는 결과\n",
    "- 이는 의외일 수 있지만, 웰니스 관광객들이 더 많은 기대를 하고 방문하거나, 정보 접근성 부족에 더 민감할 가능성을 제시\n",
    "- 즉, 웰니스 관광의 질에 대한 기대 대비 충족도 불일치 문제일 수 있습니다.\n",
    "3. 상호작용항 (infolack × wellness, 웰니스 온 사람이 정보가 부족하면 더 실망하는 건지)은 유의미하지 않음\n",
    "- 웰니스 방문자라고 해서 정보 부족이 만족도에 미치는 영향이 달라지지는 않는다는 뜻\n",
    "- 즉, 정보 부족은 모든 방문객에게 부정적인 영향을 미치며, 웰니스 여부에 따른 영향력의 차이는 없음."
   ]
  },
  {
   "cell_type": "markdown",
   "id": "196a02d1",
   "metadata": {},
   "source": [
    "- 정보 부족 변수는 세 문항의 응답 수에 기반하여 구성되었으나 \n",
    "일부 응답자에게는 결측치가 포함되어 있어, 측정 오류 발생 위험 존재.\n",
    "- 더불어 정보 부족의 강도를 완벽히 반영하지 못하는 한계가 있음. 특히 특정 항목 하나만으로 강한 정보 부족을 경험할 수 있는 점을 감안하면 해석에 매우 신중을 가할 필요가 있음.\n",
    "- 지금 가진 데이터로는 분석의 신뢰성이 있다고 판단할 수 없음.\n",
    "- 가설을 변경하고, 다른 분석을 해봐야겠다고 판단함. "
   ]
  }
 ],
 "metadata": {
  "kernelspec": {
   "display_name": "base",
   "language": "python",
   "name": "python3"
  },
  "language_info": {
   "codemirror_mode": {
    "name": "ipython",
    "version": 3
   },
   "file_extension": ".py",
   "mimetype": "text/x-python",
   "name": "python",
   "nbconvert_exporter": "python",
   "pygments_lexer": "ipython3",
   "version": "3.12.7"
  }
 },
 "nbformat": 4,
 "nbformat_minor": 5
}
